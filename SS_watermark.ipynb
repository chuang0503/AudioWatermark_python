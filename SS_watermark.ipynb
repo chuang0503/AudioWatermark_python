{
 "cells": [
  {
   "cell_type": "markdown",
   "id": "0a2f2676",
   "metadata": {},
   "source": [
    "# SS watermark"
   ]
  },
  {
   "cell_type": "code",
   "execution_count": 1,
   "id": "b258b090",
   "metadata": {},
   "outputs": [],
   "source": [
    "import librosa\n",
    "import numpy as np\n",
    "import scipy\n",
    "from matplotlib import pyplot as plt"
   ]
  },
  {
   "cell_type": "markdown",
   "id": "b3793297",
   "metadata": {},
   "source": [
    "## Watermark Embedding"
   ]
  },
  {
   "cell_type": "code",
   "execution_count": 2,
   "id": "f375af88",
   "metadata": {},
   "outputs": [
    {
     "name": "stdout",
     "output_type": "stream",
     "text": [
      "22050\n",
      "(661794,)\n"
     ]
    }
   ],
   "source": [
    "# read audio data\n",
    "x, sr = librosa.load(\"sample.wav\",sr=None)\n",
    "print(sr)\n",
    "print(x.shape)"
   ]
  },
  {
   "cell_type": "code",
   "execution_count": 3,
   "id": "607d95b4",
   "metadata": {},
   "outputs": [
    {
     "name": "stdout",
     "output_type": "stream",
     "text": [
      "161\n"
     ]
    }
   ],
   "source": [
    "# frame segmentation\n",
    "sig_length = len(x)\n",
    "frame_length = 4096\n",
    "hop_length = 4096\n",
    "overlap = frame_length - hop_length\n",
    "Nframe = int( (sig_length-overlap) / hop_length)\n",
    "print(Nframe)"
   ]
  },
  {
   "cell_type": "code",
   "execution_count": 4,
   "id": "80e8283f",
   "metadata": {},
   "outputs": [
    {
     "name": "stdout",
     "output_type": "stream",
     "text": [
      "[1 1 1 0 1 0 0 1 0 1 1 0 0 0 0 1 0 1 0 0 1 0 1 1 1 1 1 0 1 1 1 0 0 1 0 0 1\n",
      " 1 0 1 1 1 1 1 1 1 0 0 0 0 1 1 1]\n",
      "(53,)\n"
     ]
    }
   ],
   "source": [
    "# message generation\n",
    "if_repetitive_coding = True\n",
    "if if_repetitive_coding:\n",
    "    repeat = 3\n",
    "    msg_len = int(Nframe/repeat)\n",
    "else:\n",
    "    repeat = 1\n",
    "    msg_len = Nframe\n",
    "        \n",
    "msg = np.random.randint(2, size=msg_len)\n",
    "print(msg)\n",
    "print(msg.shape)"
   ]
  },
  {
   "cell_type": "code",
   "execution_count": 5,
   "id": "680bcd87",
   "metadata": {},
   "outputs": [
    {
     "name": "stdout",
     "output_type": "stream",
     "text": [
      "[-0.25154488 -0.16167944  0.11175725 ... -0.30013376  0.16614108\n",
      "  0.4180621 ]\n"
     ]
    }
   ],
   "source": [
    "# SS sequence\n",
    "PN_sequence = np.random.rand(frame_length) - 0.5\n",
    "print(PN_sequence)"
   ]
  },
  {
   "cell_type": "code",
   "execution_count": 6,
   "id": "ddd4c0a7",
   "metadata": {},
   "outputs": [],
   "source": [
    "# embed watermark\n",
    "c = 0.03 # control strength\n",
    "\n",
    "embedded_x = np.copy(x)\n",
    "for frame_idx in range(Nframe):\n",
    "    start = librosa.frames_to_samples(frame_idx,hop_length=hop_length)\n",
    "    frame = x[start:start+frame_length]\n",
    "    alpha = c*np.max(np.abs(frame))\n",
    "    \n",
    "    if frame_idx//repeat < msg_len:\n",
    "        msg_bit = int(msg[frame_idx//repeat] * 2 - 1)\n",
    "    else:\n",
    "        msg_bit = 0\n",
    "    \n",
    "    SS_sequence = msg_bit * PN_sequence\n",
    "    embedded_x[start:start+hop_length] += SS_sequence\n"
   ]
  },
  {
   "cell_type": "code",
   "execution_count": 7,
   "id": "fcd69819",
   "metadata": {
    "scrolled": true
   },
   "outputs": [
    {
     "data": {
      "text/plain": [
       "[<matplotlib.lines.Line2D at 0x7fb992501b80>]"
      ]
     },
     "execution_count": 7,
     "metadata": {},
     "output_type": "execute_result"
    },
    {
     "data": {
      "image/png": "[encoded data removed]",
      "text/plain": [
       "<Figure size 640x480 with 1 Axes>"
      ]
     },
     "metadata": {},
     "output_type": "display_data"
    }
   ],
   "source": [
    "plt.plot(embedded_x)"
   ]
  },
  {
   "cell_type": "markdown",
   "id": "b416b8cb",
   "metadata": {},
   "source": [
    "## Watermark Detection"
   ]
  },
  {
   "cell_type": "code",
   "execution_count": 8,
   "id": "3d77d775",
   "metadata": {},
   "outputs": [],
   "source": [
    "stream_decode = np.empty(msg.shape)\n",
    "for frame_idx in range(Nframe):\n",
    "    start = librosa.frames_to_samples(frame_idx,hop_length=hop_length)\n",
    "    frame = embedded_x[start:start+frame_length]\n",
    "    decision = 0\n",
    "    \n",
    "    if frame_idx//repeat < msg_len:\n",
    "        xcorr = scipy.signal.correlate(frame,PN_sequence)\n",
    "        msg_bit_decode = np.sign(np.min(xcorr)+np.max(xcorr))\n",
    "        \n",
    "        decision += msg_bit_decode\n",
    "        \n",
    "        if frame_idx%repeat == repeat-1:\n",
    "            stream_decode[frame_idx//repeat] = 1 if decision>0 else 0\n",
    "        \n",
    "    else:\n",
    "        break"
   ]
  },
  {
   "cell_type": "code",
   "execution_count": 9,
   "id": "58b7e0c5",
   "metadata": {},
   "outputs": [
    {
     "data": {
      "text/plain": [
       "array([1., 1., 1., 0., 1., 0., 0., 1., 0., 1., 1., 0., 0., 0., 0., 1., 0.,\n",
       "       1., 0., 0., 1., 0., 1., 1., 1., 1., 1., 0., 1., 1., 1., 0., 0., 1.,\n",
       "       0., 0., 1., 1., 0., 1., 1., 1., 1., 1., 1., 1., 0., 0., 0., 0., 1.,\n",
       "       1., 1.])"
      ]
     },
     "execution_count": 9,
     "metadata": {},
     "output_type": "execute_result"
    }
   ],
   "source": [
    "stream_decode"
   ]
  },
  {
   "cell_type": "code",
   "execution_count": 10,
   "id": "379a951b",
   "metadata": {},
   "outputs": [
    {
     "data": {
      "text/plain": [
       "array([1, 1, 1, 0, 1, 0, 0, 1, 0, 1, 1, 0, 0, 0, 0, 1, 0, 1, 0, 0, 1, 0,\n",
       "       1, 1, 1, 1, 1, 0, 1, 1, 1, 0, 0, 1, 0, 0, 1, 1, 0, 1, 1, 1, 1, 1,\n",
       "       1, 1, 0, 0, 0, 0, 1, 1, 1])"
      ]
     },
     "execution_count": 10,
     "metadata": {},
     "output_type": "execute_result"
    }
   ],
   "source": [
    "msg"
   ]
  },
  {
   "cell_type": "code",
   "execution_count": 11,
   "id": "fd438634",
   "metadata": {},
   "outputs": [
    {
     "data": {
      "text/plain": [
       "<function scipy.signal.signaltools.correlate(in1, in2, mode='full', method='auto')>"
      ]
     },
     "execution_count": 11,
     "metadata": {},
     "output_type": "execute_result"
    }
   ],
   "source": [
    "scipy.signal.correlate"
   ]
  },
  {
   "cell_type": "code",
   "execution_count": 12,
   "id": "87362ad4",
   "metadata": {},
   "outputs": [
    {
     "name": "stdout",
     "output_type": "stream",
     "text": [
      "BER:0.0\n"
     ]
    }
   ],
   "source": [
    "ber = np.sum(np.abs(stream_decode - msg)) / len(msg)\n",
    "print(f\"BER:{ber}\")"
   ]
  },
  {
   "cell_type": "code",
   "execution_count": null,
   "id": "3528152c",
   "metadata": {},
   "outputs": [],
   "source": []
  }
 ],
 "metadata": {
  "kernelspec": {
   "display_name": "Python 3 (ipykernel)",
   "language": "python",
   "name": "python3"
  },
  "language_info": {
   "codemirror_mode": {
    "name": "ipython",
    "version": 3
   },
   "file_extension": ".py",
   "mimetype": "text/x-python",
   "name": "python",
   "nbconvert_exporter": "python",
   "pygments_lexer": "ipython3",
   "version": "3.9.16"
  }
 },
 "nbformat": 4,
 "nbformat_minor": 5
}
