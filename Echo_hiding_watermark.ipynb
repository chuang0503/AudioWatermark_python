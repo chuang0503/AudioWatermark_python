{
 "cells": [
  {
   "cell_type": "markdown",
   "id": "b7e416ba",
   "metadata": {},
   "source": [
    "# Echo hiding watermarking"
   ]
  },
  {
   "cell_type": "code",
   "execution_count": 1,
   "id": "d2757d8c",
   "metadata": {},
   "outputs": [],
   "source": [
    "import librosa\n",
    "import numpy as np\n",
    "import scipy\n",
    "from matplotlib import pyplot as plt"
   ]
  },
  {
   "cell_type": "code",
   "execution_count": 9,
   "id": "5c585c09",
   "metadata": {},
   "outputs": [],
   "source": [
    "# read audio data\n",
    "x, sr = librosa.load(\"sample.wav\",sr=None)\n",
    "\n",
    "# frame segmentation\n",
    "sig_length = len(x)\n",
    "frame_length = 4096\n",
    "hop_length = 2048\n",
    "overlap = frame_length - hop_length\n",
    "Nframe = int( (sig_length-overlap) / hop_length)\n",
    "\n",
    "# Hann window\n",
    "win = scipy.signal.windows.hann(frame_length)\n",
    "\n",
    "# message generation\n",
    "if_repetitive_coding = True\n",
    "if if_repetitive_coding:\n",
    "    repeat = 3\n",
    "    msg_len = int(Nframe/repeat)\n",
    "else:\n",
    "    repeat = 1\n",
    "    msg_len = Nframe\n",
    "        \n",
    "msg = np.random.randint(2, size=msg_len)"
   ]
  },
  {
   "cell_type": "code",
   "execution_count": 6,
   "id": "455b9e94",
   "metadata": {},
   "outputs": [],
   "source": [
    "# echo kernels\n",
    "delta1 = 100\n",
    "delta0 = 120\n",
    "\n",
    "alpha = 0.2 #echo amplitude\n",
    "delay = 4 # negative echo\n",
    "\n",
    "prev1 = np.zeros(frame_length) #for positive single\n",
    "prev2 = np.zeros(frame_length) #for pos/neg pair\n",
    "prev3 = np.zeros(frame_length) #for back/forward"
   ]
  },
  {
   "cell_type": "markdown",
   "id": "d300ecec",
   "metadata": {},
   "source": [
    "## watermark embedding"
   ]
  },
  {
   "cell_type": "code",
   "execution_count": null,
   "id": "f00abef2",
   "metadata": {},
   "outputs": [],
   "source": [
    "embedded_x = np.copy(x)\n",
    "for frame_idx in range(Nframe):\n",
    "    start = librosa.frames_to_samples(frame_idx,hop_length=hop_length)\n",
    "    frame = x[start:start+hop_length]\n",
    "    \n",
    "    if frame_idx//repeat < msg_len:\n",
    "        msg_bit = msg[frame_idx//repeat]\n",
    "        delta = delta1 if msg_bit==1 else delta0\n",
    "    else:\n",
    "        delta = 0\n",
    "    \n",
    "    echo_p = alpha * np.append(np.zeros(delta), frame[:frame_length-delta])\n",
    "    echo_n = -alpha * np.append(np.zeros(delta+delay), frame[:frame_length-delta-delay])\n",
    "    echo_f = alpha * np.append(frame[delta:], np.zeros(delta))\n",
    "    \n",
    "    echoed_frame1 = frame + echo_p\n",
    "    echoed_frame2 = frame + echo_p + echo_n\n",
    "    echoed_frame3 = frame + echo_p + echo_f\n",
    "    \n",
    "    # windowing and smoothing\n",
    "    \n",
    "    "
   ]
  }
 ],
 "metadata": {
  "kernelspec": {
   "display_name": "Python 3 (ipykernel)",
   "language": "python",
   "name": "python3"
  },
  "language_info": {
   "codemirror_mode": {
    "name": "ipython",
    "version": 3
   },
   "file_extension": ".py",
   "mimetype": "text/x-python",
   "name": "python",
   "nbconvert_exporter": "python",
   "pygments_lexer": "ipython3",
   "version": "3.9.16"
  }
 },
 "nbformat": 4,
 "nbformat_minor": 5
}
